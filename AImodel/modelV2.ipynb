{
  "cells": [
    {
      "cell_type": "code",
      "execution_count": 1,
      "metadata": {
        "id": "OmO7jmrpkvZf"
      },
      "outputs": [],
      "source": [
        "# import the dataset\n",
        "import pandas as pd\n",
        "problems_df = pd.read_csv('ppp.csv')\n",
        "target_df = pd.read_csv('tar.csv')"
      ]
    },
    {
      "cell_type": "code",
      "execution_count": 2,
      "metadata": {},
      "outputs": [
        {
          "name": "stdout",
          "output_type": "stream",
          "text": [
            "The dimensions of movies dataframe are: (20114, 12) \n",
            "The dimensions of ratings dataframe are: (8270, 2)\n"
          ]
        }
      ],
      "source": [
        "print('The dimensions of movies dataframe are:', problems_df.shape,'\\nThe dimensions of ratings dataframe are:', target_df.shape)"
      ]
    },
    {
      "cell_type": "code",
      "execution_count": 3,
      "metadata": {},
      "outputs": [],
      "source": [
        "problems_df.drop(['Submission_Id','User_Rating', 'User_Name'], axis=1, inplace=True)\n",
        "problems_df.drop(['Problem_Rating','Unnamed: 7','Unnamed: 8','Unnamed: 9','Unnamed: 10','Unnamed: 11'],axis=1,inplace=True)\n",
        "result_df = problems_df.drop_duplicates(subset=['Problem Name'], keep='first')"
      ]
    },
    {
      "cell_type": "code",
      "execution_count": 4,
      "metadata": {},
      "outputs": [
        {
          "name": "stdout",
          "output_type": "stream",
          "text": [
            "The dimensions of movies dataframe are: (20114, 3) \n",
            "The dimensions of ratings dataframe are: (8270, 2)\n"
          ]
        }
      ],
      "source": [
        "print('The dimensions of movies dataframe are:', problems_df.shape,'\\nThe dimensions of ratings dataframe are:', target_df.shape)\n"
      ]
    },
    {
      "cell_type": "code",
      "execution_count": 5,
      "metadata": {
        "colab": {
          "base_uri": "https://localhost:8080/",
          "height": 195
        },
        "id": "ALPeuAiBk0mM",
        "outputId": "8afc063a-7b73-4cdf-b624-cf36ecfa231a"
      },
      "outputs": [
        {
          "data": {
            "text/html": [
              "<div>\n",
              "<style scoped>\n",
              "    .dataframe tbody tr th:only-of-type {\n",
              "        vertical-align: middle;\n",
              "    }\n",
              "\n",
              "    .dataframe tbody tr th {\n",
              "        vertical-align: top;\n",
              "    }\n",
              "\n",
              "    .dataframe thead th {\n",
              "        text-align: right;\n",
              "    }\n",
              "</style>\n",
              "<table border=\"1\" class=\"dataframe\">\n",
              "  <thead>\n",
              "    <tr style=\"text-align: right;\">\n",
              "      <th></th>\n",
              "      <th>prob_id</th>\n",
              "      <th>Problem Name</th>\n",
              "      <th>Tags</th>\n",
              "    </tr>\n",
              "  </thead>\n",
              "  <tbody>\n",
              "    <tr>\n",
              "      <th>0</th>\n",
              "      <td>1</td>\n",
              "      <td>1037CEqualize</td>\n",
              "      <td>['dp', 'greedy', 'strings']</td>\n",
              "    </tr>\n",
              "    <tr>\n",
              "      <th>1</th>\n",
              "      <td>2</td>\n",
              "      <td>266BQueue at the School</td>\n",
              "      <td>['constructive algorithms', 'graph matchings',...</td>\n",
              "    </tr>\n",
              "    <tr>\n",
              "      <th>2</th>\n",
              "      <td>3</td>\n",
              "      <td>1583BOmkar and Heavenly Tree</td>\n",
              "      <td>['constructive algorithms', 'trees']</td>\n",
              "    </tr>\n",
              "    <tr>\n",
              "      <th>3</th>\n",
              "      <td>4</td>\n",
              "      <td>112APetya and Strings</td>\n",
              "      <td>['implementation', 'strings']</td>\n",
              "    </tr>\n",
              "    <tr>\n",
              "      <th>4</th>\n",
              "      <td>5</td>\n",
              "      <td>443AAnton and Letters</td>\n",
              "      <td>['constructive algorithms', 'implementation']</td>\n",
              "    </tr>\n",
              "  </tbody>\n",
              "</table>\n",
              "</div>"
            ],
            "text/plain": [
              "   prob_id                  Problem Name  \\\n",
              "0        1                 1037CEqualize   \n",
              "1        2       266BQueue at the School   \n",
              "2        3  1583BOmkar and Heavenly Tree   \n",
              "3        4         112APetya and Strings   \n",
              "4        5         443AAnton and Letters   \n",
              "\n",
              "                                                Tags  \n",
              "0                        ['dp', 'greedy', 'strings']  \n",
              "1  ['constructive algorithms', 'graph matchings',...  \n",
              "2               ['constructive algorithms', 'trees']  \n",
              "3                      ['implementation', 'strings']  \n",
              "4      ['constructive algorithms', 'implementation']  "
            ]
          },
          "execution_count": 5,
          "metadata": {},
          "output_type": "execute_result"
        }
      ],
      "source": [
        "# Take a look at movies_df\n",
        "problems_df.head()"
      ]
    },
    {
      "cell_type": "code",
      "execution_count": 6,
      "metadata": {
        "colab": {
          "base_uri": "https://localhost:8080/",
          "height": 195
        },
        "id": "KzPoqkWbk0oh",
        "outputId": "762a17ed-9513-48f8-f1ef-0c1b63347624"
      },
      "outputs": [
        {
          "data": {
            "text/html": [
              "<div>\n",
              "<style scoped>\n",
              "    .dataframe tbody tr th:only-of-type {\n",
              "        vertical-align: middle;\n",
              "    }\n",
              "\n",
              "    .dataframe tbody tr th {\n",
              "        vertical-align: top;\n",
              "    }\n",
              "\n",
              "    .dataframe thead th {\n",
              "        text-align: right;\n",
              "    }\n",
              "</style>\n",
              "<table border=\"1\" class=\"dataframe\">\n",
              "  <thead>\n",
              "    <tr style=\"text-align: right;\">\n",
              "      <th></th>\n",
              "      <th>tar_id</th>\n",
              "      <th>Target Variable</th>\n",
              "    </tr>\n",
              "  </thead>\n",
              "  <tbody>\n",
              "    <tr>\n",
              "      <th>0</th>\n",
              "      <td>1</td>\n",
              "      <td>0.255814</td>\n",
              "    </tr>\n",
              "    <tr>\n",
              "      <th>1</th>\n",
              "      <td>2</td>\n",
              "      <td>0.353846</td>\n",
              "    </tr>\n",
              "    <tr>\n",
              "      <th>2</th>\n",
              "      <td>3</td>\n",
              "      <td>0.400000</td>\n",
              "    </tr>\n",
              "    <tr>\n",
              "      <th>3</th>\n",
              "      <td>4</td>\n",
              "      <td>0.261538</td>\n",
              "    </tr>\n",
              "    <tr>\n",
              "      <th>4</th>\n",
              "      <td>5</td>\n",
              "      <td>0.473684</td>\n",
              "    </tr>\n",
              "  </tbody>\n",
              "</table>\n",
              "</div>"
            ],
            "text/plain": [
              "   tar_id  Target Variable\n",
              "0       1         0.255814\n",
              "1       2         0.353846\n",
              "2       3         0.400000\n",
              "3       4         0.261538\n",
              "4       5         0.473684"
            ]
          },
          "execution_count": 6,
          "metadata": {},
          "output_type": "execute_result"
        }
      ],
      "source": [
        "# Take a look at ratings_df\n",
        "target_df.head()"
      ]
    },
    {
      "cell_type": "code",
      "execution_count": 7,
      "metadata": {
        "colab": {
          "base_uri": "https://localhost:8080/"
        },
        "id": "2TUaWt96k0q7",
        "outputId": "afd13baa-d03e-40c9-9dcf-f8c4cbda08d0"
      },
      "outputs": [
        {
          "name": "stdout",
          "output_type": "stream",
          "text": [
            "Number of unique users: 20114\n",
            "Number of unique problems: 8270\n",
            "The full rating matrix will have: 166342780 elements.\n",
            "----------\n",
            "Number of ratings: 8270\n",
            "Therefore:  0.004971661529283087 % of the matrix is filled.\n",
            "We have an incredibly sparse matrix to work with here.\n",
            "And... as you can imagine, as the number of users and products grow, the number of elements will increase by n*2\n",
            "You are going to need a lot of memory to work with global scale... storing a full matrix in memory would be a challenge.\n",
            "One advantage here is that matrix factorization can realize the rating matrix implicitly, thus we don't need all the data\n"
          ]
        }
      ],
      "source": [
        "# Movie ID to movie name mapping\n",
        "problem_name = problems_df.set_index('prob_id')['Problem Name'].to_dict()\n",
        "\n",
        "n_probs = len(problems_df.prob_id.unique())#not sure whats happening here  #n_user changed to n_probs\n",
        "\n",
        "n_items = len(target_df.tar_id.unique())\n",
        "print(\"Number of unique users:\", n_probs)\n",
        "print(\"Number of unique problems:\", n_items)\n",
        "print(\"The full rating matrix will have:\", n_probs*n_items, 'elements.')\n",
        "print('----------')\n",
        "print(\"Number of ratings:\", len(target_df))\n",
        "print(\"Therefore: \", len(target_df) / (n_probs*n_items) * 100, '% of the matrix is filled.')\n",
        "print(\"We have an incredibly sparse matrix to work with here.\")\n",
        "print(\"And... as you can imagine, as the number of users and products grow, the number of elements will increase by n*2\")\n",
        "print(\"You are going to need a lot of memory to work with global scale... storing a full matrix in memory would be a challenge.\")\n",
        "print(\"One advantage here is that matrix factorization can realize the rating matrix implicitly, thus we don't need all the data\")"
      ]
    },
    {
      "cell_type": "code",
      "execution_count": 8,
      "metadata": {
        "id": "YnkTvMsCk0tY"
      },
      "outputs": [],
      "source": [
        "import torch\n",
        "import numpy as np\n",
        "from torch.autograd import Variable\n",
        "from tqdm import tqdm_notebook as tqdm\n",
        "\n",
        "class MatrixFactorization(torch.nn.Module):\n",
        "    def __init__(self, n_users, n_items, n_factors=20):\n",
        "        super().__init__()\n",
        "        # create user embeddings\n",
        "        self.user_factors = torch.nn.Embedding(n_users, n_factors) # think of this as a lookup table for the input.\n",
        "        # create item embeddings\n",
        "        self.item_factors = torch.nn.Embedding(n_items, n_factors) # think of this as a lookup table for the input.\n",
        "        self.user_factors.weight.data.uniform_(0, 0.05)\n",
        "        self.item_factors.weight.data.uniform_(0, 0.05)\n",
        "        \n",
        "    def forward(self, data):\n",
        "        # matrix multiplication\n",
        "        users, items = data[:,0], data[:,1]\n",
        "        return (self.user_factors(users)*self.item_factors(items)).sum(1)\n",
        "    # def forward(self, user, item):\n",
        "    # \t# matrix multiplication\n",
        "    #     return (self.user_factors(user)*self.item_factors(item)).sum(1)\n",
        "    \n",
        "    def predict(self, user, item):\n",
        "        return self.forward(user, item)"
      ]
    },
    {
      "cell_type": "code",
      "execution_count": 13,
      "metadata": {
        "id": "LTlGvz7sk0v2"
      },
      "outputs": [],
      "source": [
        "# Creating the dataloader (necessary for PyTorch)\n",
        "from torch.utils.data.dataset import Dataset\n",
        "from torch.utils.data import DataLoader # package that helps transform your data to machine learning readiness\n",
        "\n",
        "# Note: This isn't 'good' practice, in a MLops sense but we'll roll with this since the data is already loaded in memory.\n",
        "class Loader(Dataset):\n",
        "    def __init__(self):\n",
        "        self.ratings = target_df.copy()#changed ratings to target\n",
        "        \n",
        "        # Extract all user IDs and movie IDs\n",
        "        users = target_df.tar_id.unique()      ###changine user_id to tar_id\n",
        "        movies = target_df.tar_id.unique()      ##i changed somethng\n",
        "        \n",
        "        #--- Producing new continuous IDs for users and movies ---\n",
        "        \n",
        "        # Unique values : index\n",
        "        self.userid2idx = {o:i for i,o in enumerate(users)}\n",
        "        self.movieid2idx = {o:i for i,o in enumerate(movies)}\n",
        "        \n",
        "        # Obtained continuous ID for users and movies\n",
        "        self.idx2userid = {i:o for o,i in self.userid2idx.items()}\n",
        "        self.idx2movieid = {i:o for o,i in self.movieid2idx.items()}\n",
        "        \n",
        "        # return the id from the indexed values as noted in the lambda function down below.\n",
        "        self.ratings.tar_id = target_df.tar_id.apply(lambda x: self.movieid2idx[x])\n",
        "        self.ratings.tar_id = target_df.tar_id.apply(lambda x: self.userid2idx[x])\n",
        "        \n",
        "        \n",
        "        self.x = self.ratings.drop(['rating', 'timestamp'], axis=1).values\n",
        "        self.y = self.ratings['rating'].values\n",
        "        self.x, self.y = torch.tensor(self.x), torch.tensor(self.y) # Transforms the data to tensors (ready for torch models.)\n",
        "\n",
        "    def __getitem__(self, index):\n",
        "        return (self.x[index], self.y[index])\n",
        "\n",
        "    def __len__(self):\n",
        "        return len(self.ratings)"
      ]
    },
    {
      "cell_type": "code",
      "execution_count": 14,
      "metadata": {
        "colab": {
          "base_uri": "https://localhost:8080/"
        },
        "id": "J6MK3Ymmk0yi",
        "outputId": "50e960e6-ccc7-4852-98cf-55144f7848c7"
      },
      "outputs": [
        {
          "name": "stdout",
          "output_type": "stream",
          "text": [
            "Is running on GPU: False\n",
            "MatrixFactorization(\n",
            "  (user_factors): Embedding(20114, 8)\n",
            "  (item_factors): Embedding(8270, 8)\n",
            ")\n",
            "user_factors.weight tensor([[0.0407, 0.0143, 0.0188,  ..., 0.0125, 0.0058, 0.0408],\n",
            "        [0.0157, 0.0352, 0.0325,  ..., 0.0050, 0.0321, 0.0381],\n",
            "        [0.0238, 0.0409, 0.0358,  ..., 0.0265, 0.0004, 0.0125],\n",
            "        ...,\n",
            "        [0.0399, 0.0190, 0.0267,  ..., 0.0036, 0.0069, 0.0227],\n",
            "        [0.0097, 0.0033, 0.0093,  ..., 0.0449, 0.0358, 0.0267],\n",
            "        [0.0380, 0.0348, 0.0399,  ..., 0.0048, 0.0436, 0.0139]])\n",
            "item_factors.weight tensor([[0.0117, 0.0311, 0.0090,  ..., 0.0458, 0.0016, 0.0005],\n",
            "        [0.0375, 0.0067, 0.0199,  ..., 0.0250, 0.0211, 0.0147],\n",
            "        [0.0273, 0.0055, 0.0250,  ..., 0.0063, 0.0220, 0.0184],\n",
            "        ...,\n",
            "        [0.0060, 0.0489, 0.0070,  ..., 0.0148, 0.0471, 0.0071],\n",
            "        [0.0285, 0.0274, 0.0446,  ..., 0.0132, 0.0328, 0.0493],\n",
            "        [0.0074, 0.0485, 0.0483,  ..., 0.0483, 0.0458, 0.0333]])\n"
          ]
        },
        {
          "ename": "KeyError",
          "evalue": "\"['rating' 'timestamp'] not found in axis\"",
          "output_type": "error",
          "traceback": [
            "\u001b[0;31m---------------------------------------------------------------------------\u001b[0m",
            "\u001b[0;31mKeyError\u001b[0m                                  Traceback (most recent call last)",
            "\u001b[1;32m/Users/shashanksk/Desktop/problem recomender/fromgithub/ProblemRecommender/AImodel/modelV2.ipynb Cell 10'\u001b[0m in \u001b[0;36m<module>\u001b[0;34m\u001b[0m\n\u001b[1;32m     <a href='vscode-notebook-cell:/Users/shashanksk/Desktop/problem%20recomender/fromgithub/ProblemRecommender/AImodel/modelV2.ipynb#ch0000009?line=18'>19</a>\u001b[0m optimizer \u001b[39m=\u001b[39m torch\u001b[39m.\u001b[39moptim\u001b[39m.\u001b[39mAdam(model\u001b[39m.\u001b[39mparameters(), lr\u001b[39m=\u001b[39m\u001b[39m1e-3\u001b[39m)\n\u001b[1;32m     <a href='vscode-notebook-cell:/Users/shashanksk/Desktop/problem%20recomender/fromgithub/ProblemRecommender/AImodel/modelV2.ipynb#ch0000009?line=20'>21</a>\u001b[0m \u001b[39m# Train data\u001b[39;00m\n\u001b[0;32m---> <a href='vscode-notebook-cell:/Users/shashanksk/Desktop/problem%20recomender/fromgithub/ProblemRecommender/AImodel/modelV2.ipynb#ch0000009?line=21'>22</a>\u001b[0m train_set \u001b[39m=\u001b[39m Loader()\n\u001b[1;32m     <a href='vscode-notebook-cell:/Users/shashanksk/Desktop/problem%20recomender/fromgithub/ProblemRecommender/AImodel/modelV2.ipynb#ch0000009?line=22'>23</a>\u001b[0m train_loader \u001b[39m=\u001b[39m DataLoader(train_set, \u001b[39m128\u001b[39m, shuffle\u001b[39m=\u001b[39m\u001b[39mTrue\u001b[39;00m)\n",
            "\u001b[1;32m/Users/shashanksk/Desktop/problem recomender/fromgithub/ProblemRecommender/AImodel/modelV2.ipynb Cell 9'\u001b[0m in \u001b[0;36mLoader.__init__\u001b[0;34m(self)\u001b[0m\n\u001b[1;32m     <a href='vscode-notebook-cell:/Users/shashanksk/Desktop/problem%20recomender/fromgithub/ProblemRecommender/AImodel/modelV2.ipynb#ch0000008?line=24'>25</a>\u001b[0m \u001b[39mself\u001b[39m\u001b[39m.\u001b[39mratings\u001b[39m.\u001b[39mtar_id \u001b[39m=\u001b[39m target_df\u001b[39m.\u001b[39mtar_id\u001b[39m.\u001b[39mapply(\u001b[39mlambda\u001b[39;00m x: \u001b[39mself\u001b[39m\u001b[39m.\u001b[39mmovieid2idx[x])\n\u001b[1;32m     <a href='vscode-notebook-cell:/Users/shashanksk/Desktop/problem%20recomender/fromgithub/ProblemRecommender/AImodel/modelV2.ipynb#ch0000008?line=25'>26</a>\u001b[0m \u001b[39mself\u001b[39m\u001b[39m.\u001b[39mratings\u001b[39m.\u001b[39mtar_id \u001b[39m=\u001b[39m target_df\u001b[39m.\u001b[39mtar_id\u001b[39m.\u001b[39mapply(\u001b[39mlambda\u001b[39;00m x: \u001b[39mself\u001b[39m\u001b[39m.\u001b[39muserid2idx[x])\n\u001b[0;32m---> <a href='vscode-notebook-cell:/Users/shashanksk/Desktop/problem%20recomender/fromgithub/ProblemRecommender/AImodel/modelV2.ipynb#ch0000008?line=28'>29</a>\u001b[0m \u001b[39mself\u001b[39m\u001b[39m.\u001b[39mx \u001b[39m=\u001b[39m \u001b[39mself\u001b[39;49m\u001b[39m.\u001b[39;49mratings\u001b[39m.\u001b[39;49mdrop([\u001b[39m'\u001b[39;49m\u001b[39mrating\u001b[39;49m\u001b[39m'\u001b[39;49m, \u001b[39m'\u001b[39;49m\u001b[39mtimestamp\u001b[39;49m\u001b[39m'\u001b[39;49m], axis\u001b[39m=\u001b[39;49m\u001b[39m1\u001b[39;49m)\u001b[39m.\u001b[39mvalues\n\u001b[1;32m     <a href='vscode-notebook-cell:/Users/shashanksk/Desktop/problem%20recomender/fromgithub/ProblemRecommender/AImodel/modelV2.ipynb#ch0000008?line=29'>30</a>\u001b[0m \u001b[39mself\u001b[39m\u001b[39m.\u001b[39my \u001b[39m=\u001b[39m \u001b[39mself\u001b[39m\u001b[39m.\u001b[39mratings[\u001b[39m'\u001b[39m\u001b[39mrating\u001b[39m\u001b[39m'\u001b[39m]\u001b[39m.\u001b[39mvalues\n\u001b[1;32m     <a href='vscode-notebook-cell:/Users/shashanksk/Desktop/problem%20recomender/fromgithub/ProblemRecommender/AImodel/modelV2.ipynb#ch0000008?line=30'>31</a>\u001b[0m \u001b[39mself\u001b[39m\u001b[39m.\u001b[39mx, \u001b[39mself\u001b[39m\u001b[39m.\u001b[39my \u001b[39m=\u001b[39m torch\u001b[39m.\u001b[39mtensor(\u001b[39mself\u001b[39m\u001b[39m.\u001b[39mx), torch\u001b[39m.\u001b[39mtensor(\u001b[39mself\u001b[39m\u001b[39m.\u001b[39my)\n",
            "File \u001b[0;32m/Library/Frameworks/Python.framework/Versions/3.9/lib/python3.9/site-packages/pandas/core/frame.py:4308\u001b[0m, in \u001b[0;36mDataFrame.drop\u001b[0;34m(self, labels, axis, index, columns, level, inplace, errors)\u001b[0m\n\u001b[1;32m   <a href='file:///Library/Frameworks/Python.framework/Versions/3.9/lib/python3.9/site-packages/pandas/core/frame.py?line=4177'>4178</a>\u001b[0m \u001b[39mdef\u001b[39;00m \u001b[39mdrop\u001b[39m(\n\u001b[1;32m   <a href='file:///Library/Frameworks/Python.framework/Versions/3.9/lib/python3.9/site-packages/pandas/core/frame.py?line=4178'>4179</a>\u001b[0m     \u001b[39mself\u001b[39m,\n\u001b[1;32m   <a href='file:///Library/Frameworks/Python.framework/Versions/3.9/lib/python3.9/site-packages/pandas/core/frame.py?line=4179'>4180</a>\u001b[0m     labels\u001b[39m=\u001b[39m\u001b[39mNone\u001b[39;00m,\n\u001b[0;32m   (...)\u001b[0m\n\u001b[1;32m   <a href='file:///Library/Frameworks/Python.framework/Versions/3.9/lib/python3.9/site-packages/pandas/core/frame.py?line=4185'>4186</a>\u001b[0m     errors\u001b[39m=\u001b[39m\u001b[39m\"\u001b[39m\u001b[39mraise\u001b[39m\u001b[39m\"\u001b[39m,\n\u001b[1;32m   <a href='file:///Library/Frameworks/Python.framework/Versions/3.9/lib/python3.9/site-packages/pandas/core/frame.py?line=4186'>4187</a>\u001b[0m ):\n\u001b[1;32m   <a href='file:///Library/Frameworks/Python.framework/Versions/3.9/lib/python3.9/site-packages/pandas/core/frame.py?line=4187'>4188</a>\u001b[0m     \u001b[39m\"\"\"\u001b[39;00m\n\u001b[1;32m   <a href='file:///Library/Frameworks/Python.framework/Versions/3.9/lib/python3.9/site-packages/pandas/core/frame.py?line=4188'>4189</a>\u001b[0m \u001b[39m    Drop specified labels from rows or columns.\u001b[39;00m\n\u001b[1;32m   <a href='file:///Library/Frameworks/Python.framework/Versions/3.9/lib/python3.9/site-packages/pandas/core/frame.py?line=4189'>4190</a>\u001b[0m \n\u001b[0;32m   (...)\u001b[0m\n\u001b[1;32m   <a href='file:///Library/Frameworks/Python.framework/Versions/3.9/lib/python3.9/site-packages/pandas/core/frame.py?line=4305'>4306</a>\u001b[0m \u001b[39m            weight  1.0     0.8\u001b[39;00m\n\u001b[1;32m   <a href='file:///Library/Frameworks/Python.framework/Versions/3.9/lib/python3.9/site-packages/pandas/core/frame.py?line=4306'>4307</a>\u001b[0m \u001b[39m    \"\"\"\u001b[39;00m\n\u001b[0;32m-> <a href='file:///Library/Frameworks/Python.framework/Versions/3.9/lib/python3.9/site-packages/pandas/core/frame.py?line=4307'>4308</a>\u001b[0m     \u001b[39mreturn\u001b[39;00m \u001b[39msuper\u001b[39;49m()\u001b[39m.\u001b[39;49mdrop(\n\u001b[1;32m   <a href='file:///Library/Frameworks/Python.framework/Versions/3.9/lib/python3.9/site-packages/pandas/core/frame.py?line=4308'>4309</a>\u001b[0m         labels\u001b[39m=\u001b[39;49mlabels,\n\u001b[1;32m   <a href='file:///Library/Frameworks/Python.framework/Versions/3.9/lib/python3.9/site-packages/pandas/core/frame.py?line=4309'>4310</a>\u001b[0m         axis\u001b[39m=\u001b[39;49maxis,\n\u001b[1;32m   <a href='file:///Library/Frameworks/Python.framework/Versions/3.9/lib/python3.9/site-packages/pandas/core/frame.py?line=4310'>4311</a>\u001b[0m         index\u001b[39m=\u001b[39;49mindex,\n\u001b[1;32m   <a href='file:///Library/Frameworks/Python.framework/Versions/3.9/lib/python3.9/site-packages/pandas/core/frame.py?line=4311'>4312</a>\u001b[0m         columns\u001b[39m=\u001b[39;49mcolumns,\n\u001b[1;32m   <a href='file:///Library/Frameworks/Python.framework/Versions/3.9/lib/python3.9/site-packages/pandas/core/frame.py?line=4312'>4313</a>\u001b[0m         level\u001b[39m=\u001b[39;49mlevel,\n\u001b[1;32m   <a href='file:///Library/Frameworks/Python.framework/Versions/3.9/lib/python3.9/site-packages/pandas/core/frame.py?line=4313'>4314</a>\u001b[0m         inplace\u001b[39m=\u001b[39;49minplace,\n\u001b[1;32m   <a href='file:///Library/Frameworks/Python.framework/Versions/3.9/lib/python3.9/site-packages/pandas/core/frame.py?line=4314'>4315</a>\u001b[0m         errors\u001b[39m=\u001b[39;49merrors,\n\u001b[1;32m   <a href='file:///Library/Frameworks/Python.framework/Versions/3.9/lib/python3.9/site-packages/pandas/core/frame.py?line=4315'>4316</a>\u001b[0m     )\n",
            "File \u001b[0;32m/Library/Frameworks/Python.framework/Versions/3.9/lib/python3.9/site-packages/pandas/core/generic.py:4153\u001b[0m, in \u001b[0;36mNDFrame.drop\u001b[0;34m(self, labels, axis, index, columns, level, inplace, errors)\u001b[0m\n\u001b[1;32m   <a href='file:///Library/Frameworks/Python.framework/Versions/3.9/lib/python3.9/site-packages/pandas/core/generic.py?line=4150'>4151</a>\u001b[0m \u001b[39mfor\u001b[39;00m axis, labels \u001b[39min\u001b[39;00m axes\u001b[39m.\u001b[39mitems():\n\u001b[1;32m   <a href='file:///Library/Frameworks/Python.framework/Versions/3.9/lib/python3.9/site-packages/pandas/core/generic.py?line=4151'>4152</a>\u001b[0m     \u001b[39mif\u001b[39;00m labels \u001b[39mis\u001b[39;00m \u001b[39mnot\u001b[39;00m \u001b[39mNone\u001b[39;00m:\n\u001b[0;32m-> <a href='file:///Library/Frameworks/Python.framework/Versions/3.9/lib/python3.9/site-packages/pandas/core/generic.py?line=4152'>4153</a>\u001b[0m         obj \u001b[39m=\u001b[39m obj\u001b[39m.\u001b[39;49m_drop_axis(labels, axis, level\u001b[39m=\u001b[39;49mlevel, errors\u001b[39m=\u001b[39;49merrors)\n\u001b[1;32m   <a href='file:///Library/Frameworks/Python.framework/Versions/3.9/lib/python3.9/site-packages/pandas/core/generic.py?line=4154'>4155</a>\u001b[0m \u001b[39mif\u001b[39;00m inplace:\n\u001b[1;32m   <a href='file:///Library/Frameworks/Python.framework/Versions/3.9/lib/python3.9/site-packages/pandas/core/generic.py?line=4155'>4156</a>\u001b[0m     \u001b[39mself\u001b[39m\u001b[39m.\u001b[39m_update_inplace(obj)\n",
            "File \u001b[0;32m/Library/Frameworks/Python.framework/Versions/3.9/lib/python3.9/site-packages/pandas/core/generic.py:4188\u001b[0m, in \u001b[0;36mNDFrame._drop_axis\u001b[0;34m(self, labels, axis, level, errors)\u001b[0m\n\u001b[1;32m   <a href='file:///Library/Frameworks/Python.framework/Versions/3.9/lib/python3.9/site-packages/pandas/core/generic.py?line=4185'>4186</a>\u001b[0m         new_axis \u001b[39m=\u001b[39m axis\u001b[39m.\u001b[39mdrop(labels, level\u001b[39m=\u001b[39mlevel, errors\u001b[39m=\u001b[39merrors)\n\u001b[1;32m   <a href='file:///Library/Frameworks/Python.framework/Versions/3.9/lib/python3.9/site-packages/pandas/core/generic.py?line=4186'>4187</a>\u001b[0m     \u001b[39melse\u001b[39;00m:\n\u001b[0;32m-> <a href='file:///Library/Frameworks/Python.framework/Versions/3.9/lib/python3.9/site-packages/pandas/core/generic.py?line=4187'>4188</a>\u001b[0m         new_axis \u001b[39m=\u001b[39m axis\u001b[39m.\u001b[39;49mdrop(labels, errors\u001b[39m=\u001b[39;49merrors)\n\u001b[1;32m   <a href='file:///Library/Frameworks/Python.framework/Versions/3.9/lib/python3.9/site-packages/pandas/core/generic.py?line=4188'>4189</a>\u001b[0m     result \u001b[39m=\u001b[39m \u001b[39mself\u001b[39m\u001b[39m.\u001b[39mreindex(\u001b[39m*\u001b[39m\u001b[39m*\u001b[39m{axis_name: new_axis})\n\u001b[1;32m   <a href='file:///Library/Frameworks/Python.framework/Versions/3.9/lib/python3.9/site-packages/pandas/core/generic.py?line=4190'>4191</a>\u001b[0m \u001b[39m# Case for non-unique axis\u001b[39;00m\n\u001b[1;32m   <a href='file:///Library/Frameworks/Python.framework/Versions/3.9/lib/python3.9/site-packages/pandas/core/generic.py?line=4191'>4192</a>\u001b[0m \u001b[39melse\u001b[39;00m:\n",
            "File \u001b[0;32m/Library/Frameworks/Python.framework/Versions/3.9/lib/python3.9/site-packages/pandas/core/indexes/base.py:5591\u001b[0m, in \u001b[0;36mIndex.drop\u001b[0;34m(self, labels, errors)\u001b[0m\n\u001b[1;32m   <a href='file:///Library/Frameworks/Python.framework/Versions/3.9/lib/python3.9/site-packages/pandas/core/indexes/base.py?line=5588'>5589</a>\u001b[0m \u001b[39mif\u001b[39;00m mask\u001b[39m.\u001b[39many():\n\u001b[1;32m   <a href='file:///Library/Frameworks/Python.framework/Versions/3.9/lib/python3.9/site-packages/pandas/core/indexes/base.py?line=5589'>5590</a>\u001b[0m     \u001b[39mif\u001b[39;00m errors \u001b[39m!=\u001b[39m \u001b[39m\"\u001b[39m\u001b[39mignore\u001b[39m\u001b[39m\"\u001b[39m:\n\u001b[0;32m-> <a href='file:///Library/Frameworks/Python.framework/Versions/3.9/lib/python3.9/site-packages/pandas/core/indexes/base.py?line=5590'>5591</a>\u001b[0m         \u001b[39mraise\u001b[39;00m \u001b[39mKeyError\u001b[39;00m(\u001b[39mf\u001b[39m\u001b[39m\"\u001b[39m\u001b[39m{\u001b[39;00mlabels[mask]\u001b[39m}\u001b[39;00m\u001b[39m not found in axis\u001b[39m\u001b[39m\"\u001b[39m)\n\u001b[1;32m   <a href='file:///Library/Frameworks/Python.framework/Versions/3.9/lib/python3.9/site-packages/pandas/core/indexes/base.py?line=5591'>5592</a>\u001b[0m     indexer \u001b[39m=\u001b[39m indexer[\u001b[39m~\u001b[39mmask]\n\u001b[1;32m   <a href='file:///Library/Frameworks/Python.framework/Versions/3.9/lib/python3.9/site-packages/pandas/core/indexes/base.py?line=5592'>5593</a>\u001b[0m \u001b[39mreturn\u001b[39;00m \u001b[39mself\u001b[39m\u001b[39m.\u001b[39mdelete(indexer)\n",
            "\u001b[0;31mKeyError\u001b[0m: \"['rating' 'timestamp'] not found in axis\""
          ]
        }
      ],
      "source": [
        "num_epochs = 128\n",
        "cuda = torch.cuda.is_available()\n",
        "\n",
        "print(\"Is running on GPU:\", cuda)\n",
        "\n",
        "model = MatrixFactorization(n_probs, n_items, n_factors=8)\n",
        "print(model)\n",
        "for name, param in model.named_parameters():\n",
        "    if param.requires_grad:\n",
        "        print(name, param.data)\n",
        "# GPU enable if you have a GPU...\n",
        "if cuda:\n",
        "    model = model.cuda()\n",
        "\n",
        "# MSE loss\n",
        "loss_fn = torch.nn.MSELoss()\n",
        "\n",
        "# ADAM optimizier\n",
        "optimizer = torch.optim.Adam(model.parameters(), lr=1e-3)\n",
        "\n",
        "# Train data\n",
        "train_set = Loader()\n",
        "train_loader = DataLoader(train_set, 128, shuffle=True)"
      ]
    },
    {
      "cell_type": "code",
      "execution_count": null,
      "metadata": {
        "colab": {
          "base_uri": "https://localhost:8080/",
          "height": 1000,
          "referenced_widgets": [
            "3c1765cabeaf4d75a130311ddc4591a1",
            "6db170b52f5a4f72afd083a3a9c157aa",
            "69073fd458234bba829af9731b4fce1c",
            "88151edb53134487b95f6bcbcd7fd2b4",
            "9b185906b1dc465e93b9f058a1fec47a",
            "20b4738815cd467dba2946031d6d9027",
            "c279f9a0a0fe498b9db167a237517e6e",
            "005a499c40bd407ca20c2492d9c4f170"
          ]
        },
        "id": "8fIDIdStk000",
        "outputId": "84caf390-d372-4d82-a045-cbf12a9c8cce"
      },
      "outputs": [
        {
          "name": "stderr",
          "output_type": "stream",
          "text": [
            "/usr/local/lib/python3.7/dist-packages/ipykernel_launcher.py:1: TqdmDeprecationWarning: This function will be removed in tqdm==5.0.0\n",
            "Please use `tqdm.notebook.tqdm` instead of `tqdm.tqdm_notebook`\n",
            "  \"\"\"Entry point for launching an IPython kernel.\n"
          ]
        },
        {
          "data": {
            "application/vnd.jupyter.widget-view+json": {
              "model_id": "3c1765cabeaf4d75a130311ddc4591a1",
              "version_major": 2,
              "version_minor": 0
            },
            "text/plain": [
              "HBox(children=(FloatProgress(value=0.0, max=128.0), HTML(value='')))"
            ]
          },
          "metadata": {
            "tags": []
          },
          "output_type": "display_data"
        },
        {
          "name": "stdout",
          "output_type": "stream",
          "text": [
            "iter #0 Loss: 11.064539746584625\n",
            "iter #1 Loss: 4.749444664734875\n",
            "iter #2 Loss: 2.4776223112786484\n",
            "iter #3 Loss: 1.72177541634153\n",
            "iter #4 Loss: 1.3460204232919035\n",
            "iter #5 Loss: 1.1284338527827094\n",
            "iter #6 Loss: 0.9915084930392086\n",
            "iter #7 Loss: 0.9002359872542057\n",
            "iter #8 Loss: 0.8372054895395555\n",
            "iter #9 Loss: 0.7921712103909647\n",
            "iter #10 Loss: 0.7592169020306035\n",
            "iter #11 Loss: 0.734483423155879\n",
            "iter #12 Loss: 0.7160191048825453\n",
            "iter #13 Loss: 0.7014374917912\n",
            "iter #14 Loss: 0.690310317020731\n",
            "iter #15 Loss: 0.6816033662348835\n",
            "iter #16 Loss: 0.6750705706589113\n",
            "iter #17 Loss: 0.669739288727039\n",
            "iter #18 Loss: 0.6658609225816533\n",
            "iter #19 Loss: 0.6628223651935001\n",
            "iter #20 Loss: 0.6604955623370742\n",
            "iter #21 Loss: 0.6587029967059944\n",
            "iter #22 Loss: 0.6573294878459824\n",
            "iter #23 Loss: 0.6564567382565609\n",
            "iter #24 Loss: 0.6555627360183576\n",
            "iter #25 Loss: 0.6549196255388599\n",
            "iter #26 Loss: 0.6539314403978701\n",
            "iter #27 Loss: 0.6528688056517373\n",
            "iter #28 Loss: 0.6521614116006696\n",
            "iter #29 Loss: 0.6506869314890827\n",
            "iter #30 Loss: 0.6492639796307245\n",
            "iter #31 Loss: 0.6471106028420671\n",
            "iter #32 Loss: 0.645041638408518\n",
            "iter #33 Loss: 0.6422005586212661\n",
            "iter #34 Loss: 0.638611158819368\n",
            "iter #35 Loss: 0.6344703135983593\n",
            "iter #36 Loss: 0.6294693703276252\n",
            "iter #37 Loss: 0.6236191429765091\n",
            "iter #38 Loss: 0.6167608291894047\n",
            "iter #39 Loss: 0.6090864502839025\n",
            "iter #40 Loss: 0.6006192625854826\n",
            "iter #41 Loss: 0.591128448733521\n",
            "iter #42 Loss: 0.5818279621942999\n",
            "iter #43 Loss: 0.5720471330932554\n",
            "iter #44 Loss: 0.5620070278342\n",
            "iter #45 Loss: 0.5522127401859022\n",
            "iter #46 Loss: 0.5425238067728614\n",
            "iter #47 Loss: 0.5330987115045489\n",
            "iter #48 Loss: 0.5237701579852758\n",
            "iter #49 Loss: 0.5146918527895424\n",
            "iter #50 Loss: 0.5060733147532807\n",
            "iter #51 Loss: 0.49774435866000083\n",
            "iter #52 Loss: 0.4898831197226108\n",
            "iter #53 Loss: 0.48233551210558356\n",
            "iter #54 Loss: 0.47518290367525845\n",
            "iter #55 Loss: 0.4683648519936552\n",
            "iter #56 Loss: 0.4619765629623142\n",
            "iter #57 Loss: 0.45608887344901333\n",
            "iter #58 Loss: 0.4503257277464201\n",
            "iter #59 Loss: 0.4448733877220432\n",
            "iter #60 Loss: 0.4392992372288922\n",
            "iter #61 Loss: 0.43464641615294564\n",
            "iter #62 Loss: 0.42979167560635484\n",
            "iter #63 Loss: 0.4254226601365859\n",
            "iter #64 Loss: 0.4212072497318844\n",
            "iter #65 Loss: 0.41702721674505827\n",
            "iter #66 Loss: 0.41309558013974107\n",
            "iter #67 Loss: 0.4096982266735002\n",
            "iter #68 Loss: 0.4059119510469098\n",
            "iter #69 Loss: 0.40268489101967836\n",
            "iter #70 Loss: 0.39933304133148967\n",
            "iter #71 Loss: 0.3963695630468995\n",
            "iter #72 Loss: 0.3934276655959296\n",
            "iter #73 Loss: 0.39076741312058444\n",
            "iter #74 Loss: 0.38803952179735685\n",
            "iter #75 Loss: 0.38546007302433705\n",
            "iter #76 Loss: 0.3831277103328765\n",
            "iter #77 Loss: 0.3808427186030422\n",
            "iter #78 Loss: 0.3784061186015606\n",
            "iter #79 Loss: 0.376466433446722\n",
            "iter #80 Loss: 0.3743195962822679\n",
            "iter #81 Loss: 0.37235598676473963\n",
            "iter #82 Loss: 0.3705784824066961\n",
            "iter #83 Loss: 0.36864257153823293\n",
            "iter #84 Loss: 0.36688284131551757\n",
            "iter #85 Loss: 0.365231491625309\n",
            "iter #86 Loss: 0.363480249164522\n",
            "iter #87 Loss: 0.36211012859786224\n",
            "iter #88 Loss: 0.3606044158036939\n",
            "iter #89 Loss: 0.3591318737696573\n",
            "iter #90 Loss: 0.35775118635088055\n",
            "iter #91 Loss: 0.35647212154217783\n",
            "iter #92 Loss: 0.35528279884439434\n",
            "iter #93 Loss: 0.3539668278494462\n",
            "iter #94 Loss: 0.3529103894902365\n",
            "iter #95 Loss: 0.35162870211498387\n",
            "iter #96 Loss: 0.3504359047424975\n",
            "iter #97 Loss: 0.3495060858614554\n",
            "iter #98 Loss: 0.34839825456971446\n",
            "iter #99 Loss: 0.3474773046782779\n",
            "iter #100 Loss: 0.34632887125847306\n",
            "iter #101 Loss: 0.3455469298937599\n",
            "iter #102 Loss: 0.34439465970859917\n",
            "iter #103 Loss: 0.34378151434856624\n",
            "iter #104 Loss: 0.342845733244407\n",
            "iter #105 Loss: 0.3420450622924996\n",
            "iter #106 Loss: 0.3412834131891655\n",
            "iter #107 Loss: 0.3402374327031489\n",
            "iter #108 Loss: 0.3397955849653271\n",
            "iter #109 Loss: 0.3387879188063786\n",
            "iter #110 Loss: 0.33817208227394197\n",
            "iter #111 Loss: 0.33761035310586696\n",
            "iter #112 Loss: 0.3367398034043724\n",
            "iter #113 Loss: 0.3361376861895099\n",
            "iter #114 Loss: 0.335421702375418\n",
            "iter #115 Loss: 0.3348476519325966\n",
            "iter #116 Loss: 0.33413760375401697\n",
            "iter #117 Loss: 0.3337071446635699\n",
            "iter #118 Loss: 0.3331990203805986\n",
            "iter #119 Loss: 0.3324130240846709\n",
            "iter #120 Loss: 0.33211925737370696\n",
            "iter #121 Loss: 0.3313073167757032\n",
            "iter #122 Loss: 0.33095684267467046\n",
            "iter #123 Loss: 0.3304014680954406\n",
            "iter #124 Loss: 0.3297704937229604\n",
            "iter #125 Loss: 0.3293193760446183\n",
            "iter #126 Loss: 0.32888494188032175\n",
            "iter #127 Loss: 0.32834809857803554\n",
            "\n"
          ]
        }
      ],
      "source": [
        "for it in tqdm(range(num_epochs)):\n",
        "    losses = []\n",
        "    for x, y in train_loader:\n",
        "         if cuda:\n",
        "            x, y = x.cuda(), y.cuda()\n",
        "            optimizer.zero_grad()\n",
        "            outputs = model(x)\n",
        "            loss = loss_fn(outputs.squeeze(), y.type(torch.float32))\n",
        "            losses.append(loss.item())\n",
        "            loss.backward()\n",
        "            optimizer.step()\n",
        "    print(\"iter #{}\".format(it), \"Loss:\", sum(losses) / len(losses))"
      ]
    },
    {
      "cell_type": "code",
      "execution_count": null,
      "metadata": {
        "colab": {
          "base_uri": "https://localhost:8080/"
        },
        "id": "zs_GVbSYmhib",
        "outputId": "d4a5a7f6-f2a6-4d08-9083-84a2812c3f45"
      },
      "outputs": [
        {
          "name": "stdout",
          "output_type": "stream",
          "text": [
            "user_factors.weight tensor([[ 0.6636,  1.7670,  1.5851,  ...,  1.5591,  0.9846,  1.3279],\n",
            "        [ 0.2886,  0.8389,  0.4740,  ...,  0.0211,  1.7432,  1.8250],\n",
            "        [-0.1276,  0.3505, -1.8636,  ..., -1.8244,  2.3191,  2.1920],\n",
            "        ...,\n",
            "        [ 1.5623,  0.0149,  0.6837,  ...,  2.2128,  1.5504, -0.0838],\n",
            "        [ 0.8281,  0.7045,  0.6922,  ...,  1.0350,  0.5839,  1.2660],\n",
            "        [ 0.8088,  1.1780,  0.7822,  ...,  0.9027,  2.0788,  1.3200]],\n",
            "       device='cuda:0')\n",
            "item_factors.weight tensor([[ 0.4925,  0.3693,  0.7865,  ...,  0.1419,  0.4939,  0.3609],\n",
            "        [ 0.1813,  0.2992,  0.4251,  ...,  0.5503, -0.0829,  0.6948],\n",
            "        [ 0.5640,  0.3030,  0.5318,  ...,  0.5683,  0.7503,  0.3950],\n",
            "        ...,\n",
            "        [ 0.3246,  0.3380,  0.3319,  ...,  0.3477,  0.3367,  0.3458],\n",
            "        [ 0.3952,  0.4012,  0.3834,  ...,  0.3810,  0.3876,  0.3640],\n",
            "        [ 0.4014,  0.4191,  0.4042,  ...,  0.3881,  0.4108,  0.4209]],\n",
            "       device='cuda:0')\n"
          ]
        }
      ],
      "source": [
        "# By training the model, we will have tuned latent factors for movies and users.\n",
        "c = 0\n",
        "uw = 0\n",
        "iw = 0 \n",
        "for name, param in model.named_parameters():\n",
        "    if param.requires_grad:\n",
        "        print(name, param.data)\n",
        "        if c == 0:\n",
        "          uw = param.data\n",
        "          c +=1\n",
        "        else:\n",
        "          iw = param.data\n",
        "        #print('param_data', param_data)"
      ]
    },
    {
      "cell_type": "code",
      "execution_count": null,
      "metadata": {
        "id": "IJgie01_p8k5"
      },
      "outputs": [],
      "source": [
        "trained_movie_embeddings = model.item_factors.weight.data.cpu().numpy()"
      ]
    },
    {
      "cell_type": "code",
      "execution_count": null,
      "metadata": {
        "colab": {
          "base_uri": "https://localhost:8080/"
        },
        "id": "R-_tHZ_E_rub",
        "outputId": "cb97ce5d-7140-43fa-8ffa-7603a22eee2c"
      },
      "outputs": [
        {
          "data": {
            "text/plain": [
              "9724"
            ]
          },
          "execution_count": 30,
          "metadata": {
            "tags": []
          },
          "output_type": "execute_result"
        }
      ],
      "source": [
        "len(trained_movie_embeddings) # unique movie factor weights"
      ]
    },
    {
      "cell_type": "code",
      "execution_count": null,
      "metadata": {
        "id": "bl9s4iqXy75q"
      },
      "outputs": [],
      "source": [
        "from sklearn.cluster import KMeans\n",
        "# Fit the clusters based on the movie weights\n",
        "kmeans = KMeans(n_clusters=10, random_state=0).fit(trained_movie_embeddings)"
      ]
    },
    {
      "cell_type": "code",
      "execution_count": null,
      "metadata": {
        "colab": {
          "base_uri": "https://localhost:8080/"
        },
        "id": "8MDzp-9u-m5n",
        "outputId": "c6f77e4d-68d1-49c5-c022-25e80e99007d"
      },
      "outputs": [
        {
          "name": "stdout",
          "output_type": "stream",
          "text": [
            "Cluster #0\n",
            "\t Forrest Gump (1994)\n",
            "\t Shawshank Redemption, The (1994)\n",
            "\t Silence of the Lambs, The (1991)\n",
            "\t Matrix, The (1999)\n",
            "\t Star Wars: Episode IV - A New Hope (1977)\n",
            "\t Terminator 2: Judgment Day (1991)\n",
            "\t Star Wars: Episode V - The Empire Strikes Back (1980)\n",
            "\t Usual Suspects, The (1995)\n",
            "\t Raiders of the Lost Ark (Indiana Jones and the Raiders of the Lost Ark) (1981)\n",
            "\t Lord of the Rings: The Fellowship of the Ring, The (2001)\n",
            "Cluster #1\n",
            "\t Godzilla (1998)\n",
            "\t Super Mario Bros. (1993)\n",
            "\t Honey, I Blew Up the Kid (1992)\n",
            "\t Battlefield Earth (2000)\n",
            "\t Mighty Morphin Power Rangers: The Movie (1995)\n",
            "\t Superman IV: The Quest for Peace (1987)\n",
            "\t Next Karate Kid, The (1994)\n",
            "\t Volcano (1997)\n",
            "\t Karate Kid, Part III, The (1989)\n",
            "\t Rambo III (1988)\n",
            "Cluster #2\n",
            "\t Alien (1979)\n",
            "\t Die Hard (1988)\n",
            "\t Groundhog Day (1993)\n",
            "\t Terminator, The (1984)\n",
            "\t Aliens (1986)\n",
            "\t Austin Powers: The Spy Who Shagged Me (1999)\n",
            "\t Clerks (1994)\n",
            "\t American Pie (1999)\n",
            "\t Heat (1995)\n",
            "\t Austin Powers: International Man of Mystery (1997)\n",
            "Cluster #3\n",
            "\t Jurassic Park (1993)\n",
            "\t Apollo 13 (1995)\n",
            "\t Fugitive, The (1993)\n",
            "\t Batman (1989)\n",
            "\t Sixth Sense, The (1999)\n",
            "\t True Lies (1994)\n",
            "\t Back to the Future (1985)\n",
            "\t Men in Black (a.k.a. MIB) (1997)\n",
            "\t Ace Ventura: Pet Detective (1994)\n",
            "\t Mask, The (1994)\n",
            "Cluster #4\n",
            "\t Batman Forever (1995)\n",
            "\t Net, The (1995)\n",
            "\t Clueless (1995)\n",
            "\t Cliffhanger (1993)\n",
            "\t Broken Arrow (1996)\n",
            "\t Contact (1997)\n",
            "\t Nutty Professor, The (1996)\n",
            "\t Demolition Man (1993)\n",
            "\t Face/Off (1997)\n",
            "\t Liar Liar (1997)\n",
            "Cluster #5\n",
            "\t Independence Day (a.k.a. ID4) (1996)\n",
            "\t Speed (1994)\n",
            "\t Mission: Impossible (1996)\n",
            "\t Star Wars: Episode I - The Phantom Menace (1999)\n",
            "\t Titanic (1997)\n",
            "\t Twister (1996)\n",
            "\t Star Trek: Generations (1994)\n",
            "\t Crimson Tide (1995)\n",
            "\t Armageddon (1998)\n",
            "\t Star Wars: Episode II - Attack of the Clones (2002)\n",
            "Cluster #6\n",
            "\t Waterworld (1995)\n",
            "\t Avatar (2009)\n",
            "\t 300 (2007)\n",
            "\t Unbreakable (2000)\n",
            "\t Pirates of the Caribbean: Dead Man's Chest (2006)\n",
            "\t Bridget Jones's Diary (2001)\n",
            "\t Juno (2007)\n",
            "\t Animal House (1978)\n",
            "\t Piano, The (1993)\n",
            "\t Gone in 60 Seconds (2000)\n",
            "Cluster #7\n",
            "\t Braveheart (1995)\n",
            "\t Shrek (2001)\n",
            "\t Dances with Wolves (1990)\n",
            "\t Incredibles, The (2004)\n",
            "\t Willy Wonka & the Chocolate Factory (1971)\n",
            "\t Batman Begins (2005)\n",
            "\t 2001: A Space Odyssey (1968)\n",
            "\t Harry Potter and the Sorcerer's Stone (a.k.a. Harry Potter and the Philosopher's Stone) (2001)\n",
            "\t Harry Potter and the Chamber of Secrets (2002)\n",
            "\t As Good as It Gets (1997)\n",
            "Cluster #8\n",
            "\t Schindler's List (1993)\n",
            "\t Toy Story (1995)\n",
            "\t Aladdin (1992)\n",
            "\t Lion King, The (1994)\n",
            "\t Babe (1995)\n",
            "\t E.T. the Extra-Terrestrial (1982)\n",
            "\t Ghost (1990)\n",
            "\t Breakfast Club, The (1985)\n",
            "\t Up (2009)\n",
            "\t Four Weddings and a Funeral (1994)\n",
            "Cluster #9\n",
            "\t Pulp Fiction (1994)\n",
            "\t Fight Club (1999)\n",
            "\t American Beauty (1999)\n",
            "\t Seven (a.k.a. Se7en) (1995)\n",
            "\t Godfather, The (1972)\n",
            "\t Fargo (1996)\n",
            "\t Twelve Monkeys (a.k.a. 12 Monkeys) (1995)\n",
            "\t Memento (2000)\n",
            "\t Monty Python and the Holy Grail (1975)\n",
            "\t One Flew Over the Cuckoo's Nest (1975)\n"
          ]
        }
      ],
      "source": [
        "'''It can be seen here that the movies that are in the same cluster tend to have\n",
        "similar genres. Also note that the algorithm is unfamiliar with the movie name\n",
        "and only obtained the relationships by looking at the numbers representing how\n",
        "users have responded to the movie selections.'''\n",
        "for cluster in range(10):\n",
        "  print(\"Cluster #{}\".format(cluster))\n",
        "  movs = []\n",
        "  for movidx in np.where(kmeans.labels_ == cluster)[0]:\n",
        "    movid = train_set.idx2movieid[movidx]\n",
        "    rat_count = ratings_df.loc[ratings_df['movieId']==movid].count()[0]\n",
        "    movs.append((movie_names[movid], rat_count))\n",
        "  for mov in sorted(movs, key=lambda tup: tup[1], reverse=True)[:10]:\n",
        "    print(\"\\t\", mov[0])"
      ]
    }
  ],
  "metadata": {
    "accelerator": "GPU",
    "colab": {
      "collapsed_sections": [],
      "name": "Recommendation_System.ipynb",
      "provenance": []
    },
    "kernelspec": {
      "display_name": "Python 3",
      "name": "python3"
    },
    "language_info": {
      "codemirror_mode": {
        "name": "ipython",
        "version": 3
      },
      "file_extension": ".py",
      "mimetype": "text/x-python",
      "name": "python",
      "nbconvert_exporter": "python",
      "pygments_lexer": "ipython3",
      "version": "3.9.1"
    },
    "widgets": {
      "application/vnd.jupyter.widget-state+json": {
        "005a499c40bd407ca20c2492d9c4f170": {
          "model_module": "@jupyter-widgets/base",
          "model_name": "LayoutModel",
          "state": {
            "_model_module": "@jupyter-widgets/base",
            "_model_module_version": "1.2.0",
            "_model_name": "LayoutModel",
            "_view_count": null,
            "_view_module": "@jupyter-widgets/base",
            "_view_module_version": "1.2.0",
            "_view_name": "LayoutView",
            "align_content": null,
            "align_items": null,
            "align_self": null,
            "border": null,
            "bottom": null,
            "display": null,
            "flex": null,
            "flex_flow": null,
            "grid_area": null,
            "grid_auto_columns": null,
            "grid_auto_flow": null,
            "grid_auto_rows": null,
            "grid_column": null,
            "grid_gap": null,
            "grid_row": null,
            "grid_template_areas": null,
            "grid_template_columns": null,
            "grid_template_rows": null,
            "height": null,
            "justify_content": null,
            "justify_items": null,
            "left": null,
            "margin": null,
            "max_height": null,
            "max_width": null,
            "min_height": null,
            "min_width": null,
            "object_fit": null,
            "object_position": null,
            "order": null,
            "overflow": null,
            "overflow_x": null,
            "overflow_y": null,
            "padding": null,
            "right": null,
            "top": null,
            "visibility": null,
            "width": null
          }
        },
        "20b4738815cd467dba2946031d6d9027": {
          "model_module": "@jupyter-widgets/base",
          "model_name": "LayoutModel",
          "state": {
            "_model_module": "@jupyter-widgets/base",
            "_model_module_version": "1.2.0",
            "_model_name": "LayoutModel",
            "_view_count": null,
            "_view_module": "@jupyter-widgets/base",
            "_view_module_version": "1.2.0",
            "_view_name": "LayoutView",
            "align_content": null,
            "align_items": null,
            "align_self": null,
            "border": null,
            "bottom": null,
            "display": null,
            "flex": null,
            "flex_flow": null,
            "grid_area": null,
            "grid_auto_columns": null,
            "grid_auto_flow": null,
            "grid_auto_rows": null,
            "grid_column": null,
            "grid_gap": null,
            "grid_row": null,
            "grid_template_areas": null,
            "grid_template_columns": null,
            "grid_template_rows": null,
            "height": null,
            "justify_content": null,
            "justify_items": null,
            "left": null,
            "margin": null,
            "max_height": null,
            "max_width": null,
            "min_height": null,
            "min_width": null,
            "object_fit": null,
            "object_position": null,
            "order": null,
            "overflow": null,
            "overflow_x": null,
            "overflow_y": null,
            "padding": null,
            "right": null,
            "top": null,
            "visibility": null,
            "width": null
          }
        },
        "3c1765cabeaf4d75a130311ddc4591a1": {
          "model_module": "@jupyter-widgets/controls",
          "model_name": "HBoxModel",
          "state": {
            "_dom_classes": [],
            "_model_module": "@jupyter-widgets/controls",
            "_model_module_version": "1.5.0",
            "_model_name": "HBoxModel",
            "_view_count": null,
            "_view_module": "@jupyter-widgets/controls",
            "_view_module_version": "1.5.0",
            "_view_name": "HBoxView",
            "box_style": "",
            "children": [
              "IPY_MODEL_69073fd458234bba829af9731b4fce1c",
              "IPY_MODEL_88151edb53134487b95f6bcbcd7fd2b4"
            ],
            "layout": "IPY_MODEL_6db170b52f5a4f72afd083a3a9c157aa"
          }
        },
        "69073fd458234bba829af9731b4fce1c": {
          "model_module": "@jupyter-widgets/controls",
          "model_name": "FloatProgressModel",
          "state": {
            "_dom_classes": [],
            "_model_module": "@jupyter-widgets/controls",
            "_model_module_version": "1.5.0",
            "_model_name": "FloatProgressModel",
            "_view_count": null,
            "_view_module": "@jupyter-widgets/controls",
            "_view_module_version": "1.5.0",
            "_view_name": "ProgressView",
            "bar_style": "success",
            "description": "100%",
            "description_tooltip": null,
            "layout": "IPY_MODEL_20b4738815cd467dba2946031d6d9027",
            "max": 128,
            "min": 0,
            "orientation": "horizontal",
            "style": "IPY_MODEL_9b185906b1dc465e93b9f058a1fec47a",
            "value": 128
          }
        },
        "6db170b52f5a4f72afd083a3a9c157aa": {
          "model_module": "@jupyter-widgets/base",
          "model_name": "LayoutModel",
          "state": {
            "_model_module": "@jupyter-widgets/base",
            "_model_module_version": "1.2.0",
            "_model_name": "LayoutModel",
            "_view_count": null,
            "_view_module": "@jupyter-widgets/base",
            "_view_module_version": "1.2.0",
            "_view_name": "LayoutView",
            "align_content": null,
            "align_items": null,
            "align_self": null,
            "border": null,
            "bottom": null,
            "display": null,
            "flex": null,
            "flex_flow": null,
            "grid_area": null,
            "grid_auto_columns": null,
            "grid_auto_flow": null,
            "grid_auto_rows": null,
            "grid_column": null,
            "grid_gap": null,
            "grid_row": null,
            "grid_template_areas": null,
            "grid_template_columns": null,
            "grid_template_rows": null,
            "height": null,
            "justify_content": null,
            "justify_items": null,
            "left": null,
            "margin": null,
            "max_height": null,
            "max_width": null,
            "min_height": null,
            "min_width": null,
            "object_fit": null,
            "object_position": null,
            "order": null,
            "overflow": null,
            "overflow_x": null,
            "overflow_y": null,
            "padding": null,
            "right": null,
            "top": null,
            "visibility": null,
            "width": null
          }
        },
        "88151edb53134487b95f6bcbcd7fd2b4": {
          "model_module": "@jupyter-widgets/controls",
          "model_name": "HTMLModel",
          "state": {
            "_dom_classes": [],
            "_model_module": "@jupyter-widgets/controls",
            "_model_module_version": "1.5.0",
            "_model_name": "HTMLModel",
            "_view_count": null,
            "_view_module": "@jupyter-widgets/controls",
            "_view_module_version": "1.5.0",
            "_view_name": "HTMLView",
            "description": "",
            "description_tooltip": null,
            "layout": "IPY_MODEL_005a499c40bd407ca20c2492d9c4f170",
            "placeholder": "​",
            "style": "IPY_MODEL_c279f9a0a0fe498b9db167a237517e6e",
            "value": " 128/128 [03:03&lt;00:00,  1.44s/it]"
          }
        },
        "9b185906b1dc465e93b9f058a1fec47a": {
          "model_module": "@jupyter-widgets/controls",
          "model_name": "ProgressStyleModel",
          "state": {
            "_model_module": "@jupyter-widgets/controls",
            "_model_module_version": "1.5.0",
            "_model_name": "ProgressStyleModel",
            "_view_count": null,
            "_view_module": "@jupyter-widgets/base",
            "_view_module_version": "1.2.0",
            "_view_name": "StyleView",
            "bar_color": null,
            "description_width": "initial"
          }
        },
        "c279f9a0a0fe498b9db167a237517e6e": {
          "model_module": "@jupyter-widgets/controls",
          "model_name": "DescriptionStyleModel",
          "state": {
            "_model_module": "@jupyter-widgets/controls",
            "_model_module_version": "1.5.0",
            "_model_name": "DescriptionStyleModel",
            "_view_count": null,
            "_view_module": "@jupyter-widgets/base",
            "_view_module_version": "1.2.0",
            "_view_name": "StyleView",
            "description_width": ""
          }
        }
      }
    }
  },
  "nbformat": 4,
  "nbformat_minor": 0
}
